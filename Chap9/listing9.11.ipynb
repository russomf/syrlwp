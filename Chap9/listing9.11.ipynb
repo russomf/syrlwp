{
 "cells": [
  {
   "cell_type": "markdown",
   "metadata": {},
   "source": [
    "Mark F. Russo, PhD and William Neil\n",
    "\n",
    "<i>Streamlining Your Research Laboratory with Python</i>"
   ]
  },
  {
   "cell_type": "code",
   "execution_count": 1,
   "metadata": {},
   "outputs": [
    {
     "name": "stdout",
     "output_type": "stream",
     "text": [
      "Km=2.479 mM, Vmax=0.184 mM/min\n"
     ]
    }
   ],
   "source": [
    "# fit_MM.py\n",
    "from scipy.optimize import curve_fit\n",
    "\n",
    "# Michaelis-Menten kinetics\n",
    "def MM(Xs, Km, Vmax):\n",
    "    return [(Vmax*X)/(Km + X) for X in Xs]\n",
    "\n",
    "# Experimental data from initial velocity experiments\n",
    "S0 = [0.05, 0.10, 0.25, 0.50, 1.00,  2.50,  5.00,  8.00, 20.00, 30.00] # [mM]\n",
    "v0 = [3.0,   6.0, 17.0, 31.0, 48.0, 101.0, 121.0, 139.0, 152.0, 181.0] # µM/min\n",
    "\n",
    "# Initial guess and estimated bounds\n",
    "guess  = [10, 100]              # Lit values KM = 2.5 mM and Vmax = 0.19 mM min−1\n",
    "bounds = [[0,0],[20,1000]]      # Parameter bounds\n",
    "\n",
    "# Fit and print results\n",
    "params, _ = curve_fit(MM, S0, v0, p0=guess, bounds=bounds)\n",
    "print(f'Km={params[0]:0.3f} mM, Vmax={params[1]*0.001:0.3f} mM/min' )"
   ]
  },
  {
   "cell_type": "code",
   "execution_count": null,
   "metadata": {},
   "outputs": [],
   "source": []
  }
 ],
 "metadata": {
  "kernelspec": {
   "display_name": "Python 3",
   "language": "python",
   "name": "python3"
  },
  "language_info": {
   "codemirror_mode": {
    "name": "ipython",
    "version": 3
   },
   "file_extension": ".py",
   "mimetype": "text/x-python",
   "name": "python",
   "nbconvert_exporter": "python",
   "pygments_lexer": "ipython3",
   "version": "3.13.0"
  }
 },
 "nbformat": 4,
 "nbformat_minor": 2
}
