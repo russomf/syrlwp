{
 "cells": [
  {
   "cell_type": "markdown",
   "metadata": {},
   "source": [
    "Mark F. Russo, PhD and William Neil\n",
    "\n",
    "<i>Streamlining Your Research Laboratory with Python</i>"
   ]
  },
  {
   "cell_type": "code",
   "execution_count": 17,
   "metadata": {},
   "outputs": [
    {
     "name": "stdout",
     "output_type": "stream",
     "text": [
      "m=0.502, b=0.013, r-value=0.99995\n"
     ]
    }
   ],
   "source": [
    "# linregress.py\n",
    "from scipy.stats import linregress\n",
    "\n",
    "Xs = [0, 1, 2, 3, 4, 5, 6, 7, 8, 9]\n",
    "Ys = [0.0, 0.54, 1.02, 1.5, 2.03, 2.52, 3.02, 3.51, 4.05, 4.53]\n",
    "rslt = linregress(Xs, Ys)\n",
    "\n",
    "print(f'm={rslt.slope:.3f}, b={rslt.intercept:.3f}, r-value={rslt.rvalue:.5f}')"
   ]
  },
  {
   "cell_type": "code",
   "execution_count": 11,
   "metadata": {},
   "outputs": [
    {
     "data": {
      "text/plain": [
       "[0.0, 0.54, 1.02, 1.5, 2.03, 2.52, 3.02, 3.51, 4.05, 4.53]"
      ]
     },
     "execution_count": 11,
     "metadata": {},
     "output_type": "execute_result"
    }
   ],
   "source": [
    "# Generate random y-data with some error\n",
    "import random\n",
    "\n",
    "[round(random.random()*0.05+0.5*i, 2) for i in range(10)]"
   ]
  }
 ],
 "metadata": {
  "kernelspec": {
   "display_name": "Python 3",
   "language": "python",
   "name": "python3"
  },
  "language_info": {
   "codemirror_mode": {
    "name": "ipython",
    "version": 3
   },
   "file_extension": ".py",
   "mimetype": "text/x-python",
   "name": "python",
   "nbconvert_exporter": "python",
   "pygments_lexer": "ipython3",
   "version": "3.12.2"
  }
 },
 "nbformat": 4,
 "nbformat_minor": 2
}
