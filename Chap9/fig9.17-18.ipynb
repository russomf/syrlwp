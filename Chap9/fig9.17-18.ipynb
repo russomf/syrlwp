{
 "cells": [
  {
   "cell_type": "markdown",
   "metadata": {},
   "source": [
    "### Streamlining Your Research Laboratory with Python\n",
    "* Authors:   Mark F. Russo, Ph.D and William Neil \n",
    "* Publisher: John Wiley & Sons, Inc.\n",
    "* License:   MIT (https://opensource.org/licenses/MIT)"
   ]
  },
  {
   "cell_type": "code",
   "execution_count": 1,
   "metadata": {},
   "outputs": [],
   "source": [
    "# Import modules\n",
    "import pandas as pd\n",
    "import matplotlib.pyplot as plt\n",
    "import random"
   ]
  },
  {
   "cell_type": "code",
   "execution_count": 2,
   "metadata": {},
   "outputs": [],
   "source": [
    "# Utility: Generate CSV file with Substance ID map of source rack\n",
    "# 40 source tubes in 8 rows and 5 columns of an 8x8 source tube rack\n",
    "def gen_source_map(sfile='source_map.csv'):\n",
    "    tbl = []\n",
    "    for i in range(40):\n",
    "        tbl.append( [f'{chr(i//5+65)}{i%5+1:02d}',f'T{i+1:02d}','T'] )\n",
    "        \n",
    "    # Add negative and positive controls\n",
    "    for i in range(4):\n",
    "        tbl.append( [f'{chr(i+65)}07',f'N{i+1:02d}','N'] )\n",
    "        tbl.append( [f'{chr(i+65)}08',f'P{i+1:02d}','P'] )\n",
    "    \n",
    "    with open(sfile, 'w') as file:\n",
    "        file.write('src,ID,type\\n')\n",
    "        for row in tbl:\n",
    "            file.write(','.join(row)+'\\n')\n",
    "\n",
    "# Utility to fabricate data and write data file\n",
    "def generate_measurements(df, fname = 'data_screen.csv'):\n",
    "    random.seed(123)\n",
    "    cdf = df.copy()\n",
    "    \n",
    "    # Randomly pick two hits\n",
    "    h1 = f'T{random.randint(1,40):02d}'\n",
    "    h2 = f'T{random.randint(1,40):02d}'\n",
    "    # print(h1, h2)\n",
    "    \n",
    "    meas = []\n",
    "    for _, row in cdf.iterrows():\n",
    "        ID = row['ID']\n",
    "        \n",
    "        val = 0.0\n",
    "        if ID in [h1, h2]:          # Hits\n",
    "            val = random.gauss(mu=0.05, sigma=0.02)\n",
    "        elif ID[0] == 'N':          # Negative controls\n",
    "            val = 0.5 - random.random() * 0.02\n",
    "        elif ID[0] == 'P':          # Positive controls\n",
    "            val = random.random() * 0.02\n",
    "        else:                       # Non-hits\n",
    "            val = random.gauss(mu=0.4, sigma=0.02)\n",
    "        meas.append( f'{val:.3f}' )\n",
    "    \n",
    "    cdf['meas'] = meas\n",
    "    data = cdf.loc[:,['dest','meas']]\n",
    "    data.to_csv(fname, index=False)\n",
    "\n",
    "# gen_source_map()"
   ]
  },
  {
   "cell_type": "code",
   "execution_count": 3,
   "metadata": {},
   "outputs": [],
   "source": [
    "# Build initial experiment DataFrame with duplicate tests and save\n",
    "def build_duplicate_experiment(sfile='source_map.csv'):\n",
    "    # Read Source Map into DataFrame\n",
    "    sdf = pd.read_csv(sfile)\n",
    "    \n",
    "    # Generate DataFrame with randomized plate layout for testing\n",
    "    # Duplicate source map using concat() method\n",
    "    df         = pd.concat( [sdf, sdf], ignore_index=True)\n",
    "    \n",
    "    # Add transfer volumes to 'vol' column. 100 mL each.\n",
    "    df['vol']  = [100]*96\n",
    "    \n",
    "    # Generate well labels, shuffle randomly. Add to 'dest' column.\n",
    "    dests      = [f'{chr(i//12+65)}{i%12+1:02d}' for i in range(96)]\n",
    "    random.shuffle(dests)\n",
    "    df['dest'] = dests\n",
    "    \n",
    "    # Return generated DataFrame\n",
    "    return df"
   ]
  },
  {
   "cell_type": "code",
   "execution_count": 4,
   "metadata": {},
   "outputs": [],
   "source": [
    "# To start analysis build the experiment DataFrame\n",
    "df = build_duplicate_experiment(sfile='source_map.csv')\n",
    "\n",
    "# Save entire experiment DataFrame to file for use in future\n",
    "df.to_csv('experiment.csv', index=False)\n",
    "\n",
    "# Write worklist for liquid handler\n",
    "wl = df[['src','dest','vol']]\n",
    "wl.to_csv('worklist.csv', index=False)\n",
    "\n",
    "# Also generate fictive measurement data and write data file\n",
    "generate_measurements(df)"
   ]
  },
  {
   "cell_type": "code",
   "execution_count": 5,
   "metadata": {},
   "outputs": [],
   "source": [
    "# Merge measured data into main experiment DataFrame\n",
    "def merge_measurements(efile='experiment.csv', mfile='data_screen.csv'):\n",
    "    # Read experiment data\n",
    "    df = pd.read_csv(efile)\n",
    "    \n",
    "    # Read measurements\n",
    "    data = pd.read_csv(mfile)\n",
    "    \n",
    "    # Merge experimental data into DataFrame\n",
    "    df = pd.merge(df, data, on='dest')\n",
    "    \n",
    "    # Add a computed column to DataFrame with Normalized Percent Inhibition\n",
    "    mpos = df.loc[df.type == 'P']['meas'].mean()\n",
    "    mneg = df.loc[df.type == 'N']['meas'].mean()\n",
    "    df['NPI'] = 100.0 * (1.0 - (mpos - df['meas'])/(mpos - mneg))\n",
    "    \n",
    "    return df\n",
    "\n",
    "# Z-factor QC measure\n",
    "def Z_factor(df):\n",
    "    sdpos  = df.loc[df.type == 'P']['NPI'].std()    # P-stdev\n",
    "    sdsamp = df.loc[df.type == 'T']['NPI'].std()    # N-stdev\n",
    "    mpos   = df.loc[df.type == 'P']['NPI'].mean()   # P-mean\n",
    "    msamp  = df.loc[df.type == 'T']['NPI'].mean()   # N-mean\n",
    "    zprime = 1.0 - 3.0*(sdpos + sdsamp)/abs(mpos - msamp)\n",
    "    return zprime\n",
    "\n",
    "# Find hits as tests with NPI outlier values\n",
    "def find_hits(df):\n",
    "    desc = df.loc[df.type == 'T']['NPI'].describe() # Describe data set\n",
    "    IQR  = desc['75%'] - desc['25%']                # Compute IQR\n",
    "    hits = df[(df.type == 'T') & (df.NPI >= (desc['75%'] + 1.5*IQR))]\n",
    "    return hits"
   ]
  },
  {
   "cell_type": "code",
   "execution_count": 6,
   "metadata": {},
   "outputs": [
    {
     "data": {
      "image/png": "[encoded data removed]",
      "text/plain": [
       "<Figure size 640x480 with 1 Axes>"
      ]
     },
     "metadata": {},
     "output_type": "display_data"
    }
   ],
   "source": [
    "# Read data, merge measurements, and add NPI\n",
    "df = merge_measurements(efile='experiment.csv', mfile='data_screen.csv')\n",
    "\n",
    "# Visualize NPI as histogram\n",
    "plt.hist(df['NPI'], bins=[5*b for b in range(21)])\n",
    "plt.xticks([5*b for b in range(21)])\n",
    "plt.grid()\n",
    "\n",
    "# # Visualize measurements as a histogram\n",
    "# plt.hist(df.meas, bins=[b*0.025 for b in range(21)]);\n",
    "# plt.xticks([0.05*b for b in range(11)])\n",
    "# plt.grid()"
   ]
  },
  {
   "cell_type": "code",
   "execution_count": 7,
   "metadata": {},
   "outputs": [
    {
     "name": "stdout",
     "output_type": "stream",
     "text": [
      "Z-factor: 0.3410549880920045\n"
     ]
    },
    {
     "data": {
      "text/html": [
       "<div>\n",
       "<style scoped>\n",
       "    .dataframe tbody tr th:only-of-type {\n",
       "        vertical-align: middle;\n",
       "    }\n",
       "\n",
       "    .dataframe tbody tr th {\n",
       "        vertical-align: top;\n",
       "    }\n",
       "\n",
       "    .dataframe thead th {\n",
       "        text-align: right;\n",
       "    }\n",
       "</style>\n",
       "<table border=\"1\" class=\"dataframe\">\n",
       "  <thead>\n",
       "    <tr style=\"text-align: right;\">\n",
       "      <th></th>\n",
       "      <th>src</th>\n",
       "      <th>ID</th>\n",
       "      <th>type</th>\n",
       "      <th>vol</th>\n",
       "      <th>dest</th>\n",
       "      <th>meas</th>\n",
       "      <th>NPI</th>\n",
       "    </tr>\n",
       "  </thead>\n",
       "  <tbody>\n",
       "    <tr>\n",
       "      <th>3</th>\n",
       "      <td>A04</td>\n",
       "      <td>T04</td>\n",
       "      <td>T</td>\n",
       "      <td>100</td>\n",
       "      <td>B04</td>\n",
       "      <td>0.077</td>\n",
       "      <td>85.484707</td>\n",
       "    </tr>\n",
       "    <tr>\n",
       "      <th>17</th>\n",
       "      <td>D03</td>\n",
       "      <td>T18</td>\n",
       "      <td>T</td>\n",
       "      <td>100</td>\n",
       "      <td>E02</td>\n",
       "      <td>0.057</td>\n",
       "      <td>89.631934</td>\n",
       "    </tr>\n",
       "    <tr>\n",
       "      <th>51</th>\n",
       "      <td>A04</td>\n",
       "      <td>T04</td>\n",
       "      <td>T</td>\n",
       "      <td>100</td>\n",
       "      <td>C01</td>\n",
       "      <td>0.035</td>\n",
       "      <td>94.193883</td>\n",
       "    </tr>\n",
       "    <tr>\n",
       "      <th>65</th>\n",
       "      <td>D03</td>\n",
       "      <td>T18</td>\n",
       "      <td>T</td>\n",
       "      <td>100</td>\n",
       "      <td>F10</td>\n",
       "      <td>0.074</td>\n",
       "      <td>86.106791</td>\n",
       "    </tr>\n",
       "  </tbody>\n",
       "</table>\n",
       "</div>"
      ],
      "text/plain": [
       "    src   ID type  vol dest   meas        NPI\n",
       "3   A04  T04    T  100  B04  0.077  85.484707\n",
       "17  D03  T18    T  100  E02  0.057  89.631934\n",
       "51  A04  T04    T  100  C01  0.035  94.193883\n",
       "65  D03  T18    T  100  F10  0.074  86.106791"
      ]
     },
     "metadata": {},
     "output_type": "display_data"
    }
   ],
   "source": [
    "# Compute Z-factor as a quality control method\n",
    "z = Z_factor(df)\n",
    "print(f'Z-factor: {z}')\n",
    "\n",
    "# Get hits by looking for outliers where NPI >= Quartile3 + 1.5 * IQR\n",
    "hits = find_hits(df)\n",
    "display(hits)"
   ]
  }
 ],
 "metadata": {
  "kernelspec": {
   "display_name": "Python 3",
   "language": "python",
   "name": "python3"
  },
  "language_info": {
   "codemirror_mode": {
    "name": "ipython",
    "version": 3
   },
   "file_extension": ".py",
   "mimetype": "text/x-python",
   "name": "python",
   "nbconvert_exporter": "python",
   "pygments_lexer": "ipython3",
   "version": "3.13.0"
  }
 },
 "nbformat": 4,
 "nbformat_minor": 2
}
